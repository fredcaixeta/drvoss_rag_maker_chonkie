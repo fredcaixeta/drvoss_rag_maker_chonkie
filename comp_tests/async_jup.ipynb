{
 "cells": [
  {
   "cell_type": "code",
   "execution_count": 1,
   "id": "09bc6c97",
   "metadata": {},
   "outputs": [
    {
     "name": "stdout",
     "output_type": "stream",
     "text": [
      "Iniciando o programa principal...\n",
      "[1] Iniciando a função assíncrona...\n",
      "[2] Iniciando a função assíncrona...\n",
      "[1] Função assíncrona concluída!\n",
      "[2] Função assíncrona concluída!\n",
      "Resultados obtidos: ['Resultado da chamada 1', 'Resultado da chamada 2']\n",
      "Programa principal concluído.\n"
     ]
    }
   ],
   "source": [
    "import asyncio\n",
    "import time\n",
    "\n",
    "async def minha_funcao_assincrona(id_chamada):\n",
    "    \"\"\"\n",
    "    Uma função assíncrona de exemplo que simula algum trabalho e imprime o ID da chamada.\n",
    "    \"\"\"\n",
    "    print(f\"[{id_chamada}] Iniciando a função assíncrona...\")\n",
    "    # Simula um atraso I/O-bound\n",
    "    await asyncio.sleep(2)\n",
    "    print(f\"[{id_chamada}] Função assíncrona concluída!\")\n",
    "    return f\"Resultado da chamada {id_chamada}\"\n",
    "\n",
    "async def main():\n",
    "    \"\"\"\n",
    "    Função principal para executar as tarefas assíncronas concorrentemente.\n",
    "    \"\"\"\n",
    "    print(\"Iniciando o programa principal...\")\n",
    "\n",
    "    # Cria duas tarefas independentes da mesma função assíncrona\n",
    "    tarefa1 = asyncio.create_task(minha_funcao_assincrona(1))\n",
    "    tarefa2 = asyncio.create_task(minha_funcao_assincrona(2))\n",
    "\n",
    "    # Espera que ambas as tarefas sejam concluídas\n",
    "    resultados = await asyncio.gather(tarefa1, tarefa2)\n",
    "\n",
    "    print(f\"Resultados obtidos: {resultados}\")\n",
    "    print(\"Programa principal concluído.\")\n",
    "\n",
    "# No Jupyter Notebook, você pode rodar o loop de eventos desta forma:\n",
    "# Se o loop de eventos já estiver rodando (o que pode acontecer em algumas configurações do Jupyter),\n",
    "# você pode precisar de await main() diretamente. Caso contrário, use:\n",
    "await main() # Esta é a forma recomendada no Jupyter"
   ]
  }
 ],
 "metadata": {
  "kernelspec": {
   "display_name": ".venv",
   "language": "python",
   "name": "python3"
  },
  "language_info": {
   "codemirror_mode": {
    "name": "ipython",
    "version": 3
   },
   "file_extension": ".py",
   "mimetype": "text/x-python",
   "name": "python",
   "nbconvert_exporter": "python",
   "pygments_lexer": "ipython3",
   "version": "3.11.12"
  }
 },
 "nbformat": 4,
 "nbformat_minor": 5
}
